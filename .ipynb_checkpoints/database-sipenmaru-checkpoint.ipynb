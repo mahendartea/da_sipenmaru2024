{
 "cells": [
  {
   "cell_type": "code",
   "id": "initial_id",
   "metadata": {
    "collapsed": true,
    "ExecuteTime": {
     "end_time": "2024-06-11T05:24:56.249325Z",
     "start_time": "2024-06-11T05:24:56.245366Z"
    }
   },
   "source": "import mysql.connector",
   "outputs": [],
   "execution_count": 39
  },
  {
   "metadata": {},
   "cell_type": "markdown",
   "source": "## 1. Koneksi ke database",
   "id": "b6f45a119636ca5e"
  },
  {
   "metadata": {
    "ExecuteTime": {
     "end_time": "2024-06-11T05:24:56.324195Z",
     "start_time": "2024-06-11T05:24:56.313086Z"
    }
   },
   "cell_type": "code",
   "source": [
    "mydb = mysql.connector.connect(\n",
    "  host=\"localhost\",\n",
    "  user=\"root\",\n",
    "  password=\"\",  \n",
    "  database=\"sipenmaru\"\n",
    ")\n",
    "\n"
   ],
   "id": "d34168d3ade08997",
   "outputs": [],
   "execution_count": 40
  },
  {
   "metadata": {},
   "cell_type": "markdown",
   "source": "### 1.1 Tes ambil data dari database",
   "id": "abb1157a034e0dde"
  },
  {
   "metadata": {
    "ExecuteTime": {
     "end_time": "2024-06-11T05:24:56.395976Z",
     "start_time": "2024-06-11T05:24:56.389021Z"
    }
   },
   "cell_type": "code",
   "source": [
    "mycursor = mydb.cursor()\n",
    "\n",
    "mycursor.execute(\"SELECT * FROM users\")\n",
    "\n",
    "myresult = mycursor.fetchall()\n",
    "\n",
    "for x in myresult:\n",
    "  print(x)"
   ],
   "id": "79a027c3ca575eef",
   "outputs": [
    {
     "name": "stdout",
     "output_type": "stream",
     "text": [
      "(36, 'Admin DAA', 'atradaa', '6885306267b1db7d7b57120d7794e853', 'Admin')\n",
      "(37, 'ICT_ADMIN', 'atrageutanyoe', '0e7fc73a20da1cc934f3272ead3fdef4', 'Admin')\n",
      "(42, 'Bu Mitia', 'mutia', '1c9e2d0a55a28a86bf7f2b77ca3d3144', 'Admin')\n",
      "(38, 'Admin UUI', 'adminuui', '25e4ee4e9229397b6b17776bfceaf8e7', 'Admin')\n",
      "(41, 'mahendar', 'mahen', '8c9a5cc1f5688bbc6b3f1f4227bcb60d', 'Admin')\n"
     ]
    }
   ],
   "execution_count": 41
  },
  {
   "metadata": {
    "ExecuteTime": {
     "end_time": "2024-06-11T05:24:56.440525Z",
     "start_time": "2024-06-11T05:24:56.432915Z"
    }
   },
   "cell_type": "code",
   "source": [
    "mycursor.execute(\"SHOW TABLES\")\n",
    "\n",
    "dataTables = mycursor.fetchall()\n",
    "for table in dataTables:\n",
    "  print(table)"
   ],
   "id": "4bf06233f3619df6",
   "outputs": [
    {
     "name": "stdout",
     "output_type": "stream",
     "text": [
      "('album_gambar',)\n",
      "('category',)\n",
      "('fakultas',)\n",
      "('galery',)\n",
      "('hasil_tes',)\n",
      "('headline',)\n",
      "('identitas',)\n",
      "('infobar',)\n",
      "('jadwal',)\n",
      "('jalur',)\n",
      "('jenis_pekerjaan',)\n",
      "('kelola_sipenmaru',)\n",
      "('komentar',)\n",
      "('lulus',)\n",
      "('m_soal',)\n",
      "('mainmenu',)\n",
      "('nilaites',)\n",
      "('nilaitesaipt',)\n",
      "('pendaftar',)\n",
      "('pendaftar_rpl',)\n",
      "('pendidikan',)\n",
      "('pilihan1',)\n",
      "('pilihan2',)\n",
      "('pilihan3',)\n",
      "('pilihan4',)\n",
      "('pilihan5',)\n",
      "('post',)\n",
      "('prodi',)\n",
      "('prodi_',)\n",
      "('provinsi',)\n",
      "('sidebar',)\n",
      "('sipen_log',)\n",
      "('sipen_statistik',)\n",
      "('sipenmaru_admin',)\n",
      "('statis',)\n",
      "('submenu',)\n",
      "('upload',)\n",
      "('use',)\n",
      "('user',)\n",
      "('user_access_menu',)\n",
      "('user_menu',)\n",
      "('user_role',)\n",
      "('user_sub_menu',)\n",
      "('user_token',)\n",
      "('users',)\n",
      "('uui_tag',)\n"
     ]
    }
   ],
   "execution_count": 42
  },
  {
   "metadata": {},
   "cell_type": "markdown",
   "source": "### 1.2 Cek Data pendaftar",
   "id": "af5d37879a1c814b"
  },
  {
   "metadata": {
    "ExecuteTime": {
     "end_time": "2024-06-11T05:26:51.343670Z",
     "start_time": "2024-06-11T05:26:51.335388Z"
    }
   },
   "cell_type": "code",
   "source": [
    "mycursor.execute(\"SHOW TABLES\")\n",
    "\n",
    "dataTables = mycursor.fetchall()\n",
    "for table in dataTables:\n",
    "  print(table)"
   ],
   "id": "b256220475dacca3",
   "outputs": [
    {
     "name": "stdout",
     "output_type": "stream",
     "text": [
      "('album_gambar',)\n",
      "('category',)\n",
      "('fakultas',)\n",
      "('galery',)\n",
      "('hasil_tes',)\n",
      "('headline',)\n",
      "('identitas',)\n",
      "('infobar',)\n",
      "('jadwal',)\n",
      "('jalur',)\n",
      "('jenis_pekerjaan',)\n",
      "('kelola_sipenmaru',)\n",
      "('komentar',)\n",
      "('lulus',)\n",
      "('m_soal',)\n",
      "('mainmenu',)\n",
      "('nilaites',)\n",
      "('nilaitesaipt',)\n",
      "('pendaftar',)\n",
      "('pendaftar_rpl',)\n",
      "('pendidikan',)\n",
      "('pilihan1',)\n",
      "('pilihan2',)\n",
      "('pilihan3',)\n",
      "('pilihan4',)\n",
      "('pilihan5',)\n",
      "('post',)\n",
      "('prodi',)\n",
      "('prodi_',)\n",
      "('provinsi',)\n",
      "('sidebar',)\n",
      "('sipen_log',)\n",
      "('sipen_statistik',)\n",
      "('sipenmaru_admin',)\n",
      "('statis',)\n",
      "('submenu',)\n",
      "('upload',)\n",
      "('use',)\n",
      "('user',)\n",
      "('user_access_menu',)\n",
      "('user_menu',)\n",
      "('user_role',)\n",
      "('user_sub_menu',)\n",
      "('user_token',)\n",
      "('users',)\n",
      "('uui_tag',)\n"
     ]
    }
   ],
   "execution_count": 48
  },
  {
   "metadata": {},
   "cell_type": "code",
   "outputs": [],
   "execution_count": null,
   "source": "",
   "id": "8da7a0be6dbe3a89"
  },
  {
   "metadata": {},
   "cell_type": "markdown",
   "source": "### 1. 3 Buat file csv",
   "id": "c9ffb28fbb6bcca6"
  }
 ],
 "metadata": {
  "kernelspec": {
   "display_name": "Python 3",
   "language": "python",
   "name": "python3"
  },
  "language_info": {
   "codemirror_mode": {
    "name": "ipython",
    "version": 2
   },
   "file_extension": ".py",
   "mimetype": "text/x-python",
   "name": "python",
   "nbconvert_exporter": "python",
   "pygments_lexer": "ipython2",
   "version": "2.7.6"
  }
 },
 "nbformat": 4,
 "nbformat_minor": 5
}
